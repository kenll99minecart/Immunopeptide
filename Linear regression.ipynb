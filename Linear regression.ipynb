{
 "cells": [
  {
   "cell_type": "markdown",
   "id": "9128f322-ccc4-4290-a945-ced0eb89999a",
   "metadata": {},
   "source": [
    "Import Both input and response file"
   ]
  },
  {
   "cell_type": "code",
   "execution_count": 1,
   "id": "d739a0a9-724e-458f-9a19-960e94d3efb9",
   "metadata": {},
   "outputs": [],
   "source": [
    "#!pip install pandas\n",
    "import pandas as pd\n",
    "pd.set_option('display.max_rows', None)\n",
    "df_input = pd.read_csv('example_explanatory_variables.csv')\n",
    "df_output = pd.read_csv('example_response_variable.csv')\n",
    "X = df_input\n",
    "y= df_output['V1']\n",
    "#print(X.Orientation)"
   ]
  },
  {
   "cell_type": "markdown",
   "id": "99c7934b-248d-4421-b7e8-27112829fa58",
   "metadata": {},
   "source": [
    "Replace elements"
   ]
  },
  {
   "cell_type": "code",
   "execution_count": 2,
   "id": "86a29f42-2a3a-461d-aaa7-9235348355f0",
   "metadata": {},
   "outputs": [
    {
     "name": "stdout",
     "output_type": "stream",
     "text": [
      "   Size Lipid  PeptideDensity  OligoConc  3  5  PO  PS  High  Low  VHigh  \\\n",
      "0    50     1            0.00          1  1  0   1   0     0    1      0   \n",
      "1    80     1            0.00          1  1  0   1   0     0    1      0   \n",
      "2    50     1            0.05          1  1  0   1   0     0    1      0   \n",
      "3    80     1            0.05          1  1  0   1   0     0    1      0   \n",
      "4    50     1            0.50          1  1  0   1   0     0    1      0   \n",
      "5    80     1            0.50          1  1  0   1   0     0    1      0   \n",
      "6    50   0.8            0.00          1  1  0   1   0     0    1      0   \n",
      "7    80   0.8            0.00          1  1  0   1   0     0    1      0   \n",
      "8    50   0.8            0.05          1  1  0   1   0     0    1      0   \n",
      "9    80   0.8            0.05          1  1  0   1   0     0    1      0   \n",
      "\n",
      "   Chol  DOPE  \n",
      "0     1     0  \n",
      "1     1     0  \n",
      "2     1     0  \n",
      "3     1     0  \n",
      "4     1     0  \n",
      "5     1     0  \n",
      "6     1     0  \n",
      "7     1     0  \n",
      "8     1     0  \n",
      "9     1     0  \n"
     ]
    }
   ],
   "source": [
    "X['Orientation'] = X.Orientation.astype(str)\n",
    "Ori = pd.get_dummies(X.Orientation)\n",
    "X = X.join(Ori)\n",
    "X.dtypes \n",
    "X = X.drop('Orientation' ,axis = 1)\n",
    "\n",
    "Bk = pd.get_dummies(X.Backbone)\n",
    "X = X.join(Bk)\n",
    "X = X.drop('Backbone', axis = 1 )\n",
    "\n",
    "OD = pd.get_dummies(X.OligoDensity)\n",
    "X = X.join(OD)\n",
    "X = X.drop('OligoDensity', axis = 1)\n",
    "\n",
    "AT = pd.get_dummies(X.Attachment)\n",
    "X = X.join(AT)\n",
    "X = X.drop('Attachment', axis = 1)\n",
    "\n",
    "X.loc[(X.Lipid == '100%'), 'Lipid' ] = 1\n",
    "X.loc[(X.Lipid == '80%'), 'Lipid' ] = 0.8\n",
    "\n",
    "print(X.head(10))"
   ]
  },
  {
   "cell_type": "code",
   "execution_count": 3,
   "id": "d8ffe312-f323-43cb-90c6-8d0aaba875c9",
   "metadata": {},
   "outputs": [
    {
     "data": {
      "text/plain": [
       "LinearRegression()"
      ]
     },
     "execution_count": 3,
     "metadata": {},
     "output_type": "execute_result"
    }
   ],
   "source": [
    "from sklearn import linear_model\n",
    "regr = linear_model.LinearRegression()\n",
    "regr.fit(X, y)"
   ]
  },
  {
   "cell_type": "code",
   "execution_count": 4,
   "id": "242e01be-9450-49e7-94a7-36bf6bdc829e",
   "metadata": {
    "scrolled": true
   },
   "outputs": [
    {
     "name": "stdout",
     "output_type": "stream",
     "text": [
      "[  0.14379197   9.55878646 -21.39492038   0.45993136 -25.52337485\n",
      "  25.52337485 -26.52593735  26.52593735   1.48264132   8.7866066\n",
      " -10.26924792  72.36682682 -72.36682682]\n"
     ]
    }
   ],
   "source": [
    "print(regr.coef_)"
   ]
  },
  {
   "cell_type": "code",
   "execution_count": 5,
   "id": "223c30a6-5ad7-451c-9293-5dd5234b11fd",
   "metadata": {
    "scrolled": true
   },
   "outputs": [],
   "source": [
    "Pred = regr.predict(X.head(500))"
   ]
  },
  {
   "cell_type": "code",
   "execution_count": 6,
   "id": "6cc68733-2ff1-4633-b66d-c4ee9605077e",
   "metadata": {},
   "outputs": [
    {
     "data": {
      "text/plain": [
       "<matplotlib.collections.PathCollection at 0x14c0246c250>"
      ]
     },
     "execution_count": 6,
     "metadata": {},
     "output_type": "execute_result"
    },
    {
     "data": {
      "image/png": "[encoded data removed]",
      "text/plain": [
       "<Figure size 432x288 with 1 Axes>"
      ]
     },
     "metadata": {
      "needs_background": "light"
     },
     "output_type": "display_data"
    }
   ],
   "source": [
    "import matplotlib.pyplot as plt\n",
    "plt.scatter(X.PeptideDensity,y)\n",
    "plt.scatter(X.PeptideDensity.head(500),Pred,c = \"red\")"
   ]
  },
  {
   "cell_type": "markdown",
   "id": "237f4f0f",
   "metadata": {},
   "source": [
    "K-fold cross-validation to get Q2 value (k-folds = 5)"
   ]
  },
  {
   "cell_type": "code",
   "execution_count": 7,
   "id": "df1f7828",
   "metadata": {},
   "outputs": [
    {
     "name": "stdout",
     "output_type": "stream",
     "text": [
      "   PO  PS  Chol  DOPE\n",
      "0   1   0     1     0\n",
      "1   1   0     1     0\n",
      "2   1   0     1     0\n",
      "3   1   0     1     0\n",
      "4   1   0     1     0\n",
      "5   1   0     1     0\n",
      "6   1   0     1     0\n",
      "7   1   0     1     0\n",
      "8   1   0     1     0\n",
      "9   1   0     1     0\n"
     ]
    }
   ],
   "source": [
    "X=X[['PO','PS','Chol','DOPE']]\n",
    "print(X.head(10))"
   ]
  },
  {
   "cell_type": "code",
   "execution_count": 8,
   "id": "8087fb24",
   "metadata": {},
   "outputs": [],
   "source": [
    "import warnings\n",
    "import math\n",
    "import numpy\n",
    "def getQ2(test_pred, test_res, rand_res): \n",
    "\n",
    "# this function calculates Q2 values\n",
    "\n",
    "  # set up squared total error and squared residual error\n",
    "    SS_tot = 0\n",
    "    SS_res = 0\n",
    "  \n",
    "    # continuous variable\n",
    "      # accumulate errors\n",
    "    SS_tot = SS_tot + sum(numpy.square(numpy.subtract(test_res,rand_res)))\n",
    "    SS_res = SS_res + sum(numpy.square(numpy.subtract(test_res,test_pred)))\n",
    "    \n",
    "  # do final Q2 calculation\n",
    "    Q2 = 1 - SS_res / SS_tot\n",
    "    #Q2 = 1 - (Sum(real-predict)/Sum(real-predict_group_mean))\n",
    "  # something went wrong and there was NA (rare)\n",
    "    if math.isnan(Q2) or pd.isna(Q2):\n",
    "        Q2 = 0\n",
    "        warn(\"Q2 in Q2.R created nan\")\n",
    "    return(Q2)"
   ]
  },
  {
   "cell_type": "code",
   "execution_count": 9,
   "id": "cb6c859b",
   "metadata": {
    "scrolled": true
   },
   "outputs": [
    {
     "name": "stdout",
     "output_type": "stream",
     "text": [
      "True\n",
      "-0.015031362068277376\n"
     ]
    }
   ],
   "source": [
    "from sklearn.model_selection import KFold\n",
    "import statistics as statss\n",
    "kf = KFold(n_splits=5)\n",
    "kf.get_n_splits(X)\n",
    "regrt = linear_model.LinearRegression()\n",
    "CVX = X.copy()\n",
    "CVy = y.copy()\n",
    "Test_pred = [] #predicted values\n",
    "Test_res = []  #original values\n",
    "rand_res = []  #training set mean values\n",
    "for train_index, test_index in kf.split(X):\n",
    "    #print(\"TRAIN:\", train_index, \"TEST:\", test_index)\n",
    "    trainX , trainY = CVX.iloc[train_index] , CVy.iloc[train_index]\n",
    "    testX , testY =  CVX.iloc[test_index] , CVy.iloc[test_index]\n",
    "    #print(trainX)\n",
    "    regrt.fit(trainX, trainY)\n",
    "    Pred_test = regrt.predict(testX)\n",
    "    Mean_trained_y=statss.mean(trainY)\n",
    "    for x in range(len(Pred_test)):\n",
    "        rand_res.append(Mean_trained_y)\n",
    "    Test_pred.extend(Pred_test)\n",
    "    Test_res.extend(testY)\n",
    "\n",
    "print(len(rand_res)==len(Test_pred))\n",
    "Q2 = getQ2(Test_pred,Test_res,rand_res)\n",
    "print(Q2)"
   ]
  },
  {
   "cell_type": "code",
   "execution_count": null,
   "id": "d8e70fc6",
   "metadata": {},
   "outputs": [],
   "source": []
  }
 ],
 "metadata": {
  "kernelspec": {
   "display_name": "Python 3",
   "language": "python",
   "name": "python3"
  },
  "language_info": {
   "codemirror_mode": {
    "name": "ipython",
    "version": 3
   },
   "file_extension": ".py",
   "mimetype": "text/x-python",
   "name": "python",
   "nbconvert_exporter": "python",
   "pygments_lexer": "ipython3",
   "version": "3.9.6"
  }
 },
 "nbformat": 4,
 "nbformat_minor": 5
}
