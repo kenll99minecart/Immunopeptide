{
 "cells": [
  {
   "cell_type": "markdown",
   "id": "c52bf0fb",
   "metadata": {},
   "source": [
    "# Define function for Q2 statistic"
   ]
  },
  {
   "cell_type": "code",
   "execution_count": 2,
   "id": "1feb6310",
   "metadata": {},
   "outputs": [
    {
     "ename": "SyntaxError",
     "evalue": "invalid syntax (<ipython-input-2-270574056fae>, line 7)",
     "output_type": "error",
     "traceback": [
      "\u001b[1;36m  File \u001b[1;32m\"<ipython-input-2-270574056fae>\"\u001b[1;36m, line \u001b[1;32m7\u001b[0m\n\u001b[1;33m    if (class(test_pred) == \"list\")\u001b[0m\n\u001b[1;37m        ^\u001b[0m\n\u001b[1;31mSyntaxError\u001b[0m\u001b[1;31m:\u001b[0m invalid syntax\n"
     ]
    }
   ],
   "source": [
    "import warnings\n",
    "def getQ2(test_pred, test_res, rand_res): \n",
    "\n",
    "# this function calculates Q2 values\n",
    "  \n",
    "  \n",
    "\n",
    "    # detect if list.  Assume each element in list if its own validation set.  if test_prediction is list, then assume all others are lists\n",
    "    if(type(test_pred) == \"Series\") \n",
    "        num_loop = length(test_pred)\n",
    "    else\n",
    "        num_loop = 1\n",
    "        test_prediction = list(test_pred)\n",
    "        test_response = list(test_res)\n",
    "        random_response = list(random_res)\n",
    "\n",
    "  \n",
    "  # set up squared total error and squared residual error\n",
    "    SS_tot = 0\n",
    "    SS_res = 0\n",
    "  \n",
    "  # iterate over each test_prediction\n",
    "    for n_loop in 1:num_loop \n",
    "    \n",
    "        test_prediction_temp = test_pred[[n_loop]]\n",
    "        test_response_temp = test_response[[n_loop]]\n",
    "        random_response_temp = random_response[[n_loop]]\n",
    "    \n",
    "    # continuous variable\n",
    "    if(!is.factor(test_prediction_temp)) \n",
    "      \n",
    "      # accumulate errors\n",
    "        \n",
    "      \n",
    "    else  # classification\n",
    "      \n",
    "      # predicted classes don't include all classes in test response\n",
    "    if(!identical(levels(test_prediction_temp), levels(test_response_temp))) \n",
    "        levels(test_prediction_temp) = levels(test_response_temp)\n",
    "      \n",
    "      \n",
    "      # accumulate errors\n",
    "    SS_tot = SS_tot + sum(test_response_temp != random_response_temp)\n",
    "    SS_res = SS_res + sum(test_response_temp != test_prediction_temp)\n",
    "      \n",
    "    \n",
    "  \n",
    "\n",
    "  # do final Q2 calculation\n",
    "    Q2 = 1 - SS_res / SS_tot\n",
    "    #Q2 = 1 - (Sum(real-predict)/Sum(real-predict_group_mean))\n",
    "  # something went wrong and there was NA (rare)\n",
    "    if (is.nan(Q2) || is.na(Q2)) \n",
    "        Q2 = 0\n",
    "        warn(\"Q2 in Q2.R created nan\")\n",
    "  \n",
    "  \n",
    "  return(Q2)\n",
    "  \n"
   ]
  },
  {
   "cell_type": "code",
   "execution_count": null,
   "id": "7b125157",
   "metadata": {},
   "outputs": [],
   "source": []
  }
 ],
 "metadata": {
  "kernelspec": {
   "display_name": "Python 3",
   "language": "python",
   "name": "python3"
  },
  "language_info": {
   "codemirror_mode": {
    "name": "ipython",
    "version": 3
   },
   "file_extension": ".py",
   "mimetype": "text/x-python",
   "name": "python",
   "nbconvert_exporter": "python",
   "pygments_lexer": "ipython3",
   "version": "3.9.6"
  }
 },
 "nbformat": 4,
 "nbformat_minor": 5
}
